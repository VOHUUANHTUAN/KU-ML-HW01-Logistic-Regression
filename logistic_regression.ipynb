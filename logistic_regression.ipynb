{
 "cells": [
  {
   "cell_type": "markdown",
   "id": "e484fadd",
   "metadata": {},
   "source": [
    "AND"
   ]
  },
  {
   "cell_type": "code",
   "execution_count": 68,
   "id": "10d3849a",
   "metadata": {},
   "outputs": [],
   "source": [
    "import random\n",
    "from math import exp, log"
   ]
  },
  {
   "cell_type": "code",
   "execution_count": 69,
   "id": "6eba31b9",
   "metadata": {},
   "outputs": [],
   "source": [
    "X = [(0, 0), (0, 1), (1, 0), (1, 1)]\n",
    "Y = [0, 0, 0, 1]  # AND gate\n",
    "\n"
   ]
  },
  {
   "cell_type": "code",
   "execution_count": null,
   "id": "85547072",
   "metadata": {},
   "outputs": [],
   "source": [
    "class logistic_regression_model():\n",
    "    def __init__(self):\n",
    "\n",
    "        self.weights = [random.uniform(-1, 1) for _ in range(2)]\n",
    "        self.bias = random.uniform(-1, 1)\n",
    "\n",
    "    def sigmoid(self, z):\n",
    "        return 1 / (1 + exp(-z))\n",
    "\n",
    "    def predict(self, x):\n",
    "        z = sum(w * xi for w, xi in zip(self.weights, x)) + self.bias\n",
    "        a = self.sigmoid(z)\n",
    "        return a #predict \"y' = a\"\n",
    "\n"
   ]
  },
  {
   "cell_type": "code",
   "execution_count": 71,
   "id": "bb7571f4",
   "metadata": {},
   "outputs": [],
   "source": [
    "model = logistic_regression_model()"
   ]
  },
  {
   "cell_type": "code",
   "execution_count": 72,
   "id": "1085c46e",
   "metadata": {},
   "outputs": [],
   "source": [
    "def train(X,Y,model, lr = 0.1):\n",
    "    dw0 = 0.0\n",
    "    dw1 = 0.0   \n",
    "    db = 0.0\n",
    "    m = len(X)\n",
    "    cost =  0.0\n",
    "    for x,y in zip(X,Y):\n",
    "        a = model.predict(x)\n",
    "        if y == 1:\n",
    "            cost += -log(a)\n",
    "        else:\n",
    "            cost += -log(1-a)\n",
    "        dw0 += (a - y) * x[0]\n",
    "        dw1 += (a - y) * x[1]\n",
    "        db += (a - y)\n",
    "    cost /= m\n",
    "    model.weights[0] -= lr * dw0 / m\n",
    "    model.weights[1] -= lr * dw1 / m\n",
    "    model.bias -= lr * db / m\n",
    "    return cost, model.bias, model.weights"
   ]
  },
  {
   "cell_type": "code",
   "execution_count": null,
   "id": "5159a4e2",
   "metadata": {},
   "outputs": [],
   "source": [
    "for epoch in range(100000):\n",
    "    c = train(X,Y,model, lr = 0.1)\n",
    "    if epoch % 100 == 0:\n",
    "        print(f'Epoch {epoch}, Loss: {c}')"
   ]
  },
  {
   "cell_type": "code",
   "execution_count": 74,
   "id": "8143a494",
   "metadata": {},
   "outputs": [
    {
     "data": {
      "text/plain": [
       "1.1481580463842329e-08"
      ]
     },
     "execution_count": 74,
     "metadata": {},
     "output_type": "execute_result"
    }
   ],
   "source": [
    "model.predict((0,0))  # Expect ~0\n"
   ]
  },
  {
   "cell_type": "code",
   "execution_count": 75,
   "id": "b5e0ddde",
   "metadata": {},
   "outputs": [
    {
     "data": {
      "text/plain": [
       "0.0020120064954549416"
      ]
     },
     "execution_count": 75,
     "metadata": {},
     "output_type": "execute_result"
    }
   ],
   "source": [
    " model.predict((0,1)) # Expect ~0"
   ]
  },
  {
   "cell_type": "code",
   "execution_count": 76,
   "id": "ae7e5995",
   "metadata": {},
   "outputs": [
    {
     "data": {
      "text/plain": [
       "0.0020120064954589787"
      ]
     },
     "execution_count": 76,
     "metadata": {},
     "output_type": "execute_result"
    }
   ],
   "source": [
    " model.predict((1,0)) # Expect ~0"
   ]
  },
  {
   "cell_type": "code",
   "execution_count": 77,
   "id": "b72b09e1",
   "metadata": {},
   "outputs": [
    {
     "data": {
      "text/plain": [
       "0.997183119180258"
      ]
     },
     "execution_count": 77,
     "metadata": {},
     "output_type": "execute_result"
    }
   ],
   "source": [
    "model.predict((1,1))  # Expect ~1"
   ]
  }
 ],
 "metadata": {
  "kernelspec": {
   "display_name": "Python 3",
   "language": "python",
   "name": "python3"
  },
  "language_info": {
   "codemirror_mode": {
    "name": "ipython",
    "version": 3
   },
   "file_extension": ".py",
   "mimetype": "text/x-python",
   "name": "python",
   "nbconvert_exporter": "python",
   "pygments_lexer": "ipython3",
   "version": "3.11.9"
  }
 },
 "nbformat": 4,
 "nbformat_minor": 5
}
